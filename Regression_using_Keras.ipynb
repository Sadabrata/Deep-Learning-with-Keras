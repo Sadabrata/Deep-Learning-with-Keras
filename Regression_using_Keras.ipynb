{
  "nbformat": 4,
  "nbformat_minor": 0,
  "metadata": {
    "colab": {
      "name": "Regression using Keras- original",
      "provenance": [],
      "collapsed_sections": [],
      "mount_file_id": "1pYIdjoNww-n0I1NyAMpaXh5mJR0y_Osq",
      "authorship_tag": "ABX9TyMhJtkHT03kKkS7oO2W29ph"
    },
    "kernelspec": {
      "name": "python3",
      "display_name": "Python 3"
    }
  },
  "cells": [
    {
      "cell_type": "code",
      "metadata": {
        "id": "HU86wHJM7cFD",
        "colab_type": "code",
        "colab": {}
      },
      "source": [
        "import numpy as np\n",
        "import pandas as pd"
      ],
      "execution_count": 0,
      "outputs": []
    },
    {
      "cell_type": "code",
      "metadata": {
        "id": "pib3TiAd7vF0",
        "colab_type": "code",
        "outputId": "e7bebb7a-5217-4a30-a8fe-dcc2f1d01431",
        "colab": {
          "base_uri": "https://localhost:8080/",
          "height": 204
        }
      },
      "source": [
        "concrete_df = pd.read_csv(\"/content/drive/My Drive/Colab Notebooks/concrete_data.csv\")\n",
        "concrete_df.head()"
      ],
      "execution_count": 2,
      "outputs": [
        {
          "output_type": "execute_result",
          "data": {
            "text/html": [
              "<div>\n",
              "<style scoped>\n",
              "    .dataframe tbody tr th:only-of-type {\n",
              "        vertical-align: middle;\n",
              "    }\n",
              "\n",
              "    .dataframe tbody tr th {\n",
              "        vertical-align: top;\n",
              "    }\n",
              "\n",
              "    .dataframe thead th {\n",
              "        text-align: right;\n",
              "    }\n",
              "</style>\n",
              "<table border=\"1\" class=\"dataframe\">\n",
              "  <thead>\n",
              "    <tr style=\"text-align: right;\">\n",
              "      <th></th>\n",
              "      <th>Cement</th>\n",
              "      <th>Blast Furnace Slag</th>\n",
              "      <th>Fly Ash</th>\n",
              "      <th>Water</th>\n",
              "      <th>Superplasticizer</th>\n",
              "      <th>Coarse Aggregate</th>\n",
              "      <th>Fine Aggregate</th>\n",
              "      <th>Age</th>\n",
              "      <th>Strength</th>\n",
              "    </tr>\n",
              "  </thead>\n",
              "  <tbody>\n",
              "    <tr>\n",
              "      <th>0</th>\n",
              "      <td>540.0</td>\n",
              "      <td>0.0</td>\n",
              "      <td>0.0</td>\n",
              "      <td>162.0</td>\n",
              "      <td>2.5</td>\n",
              "      <td>1040.0</td>\n",
              "      <td>676.0</td>\n",
              "      <td>28</td>\n",
              "      <td>79.99</td>\n",
              "    </tr>\n",
              "    <tr>\n",
              "      <th>1</th>\n",
              "      <td>540.0</td>\n",
              "      <td>0.0</td>\n",
              "      <td>0.0</td>\n",
              "      <td>162.0</td>\n",
              "      <td>2.5</td>\n",
              "      <td>1055.0</td>\n",
              "      <td>676.0</td>\n",
              "      <td>28</td>\n",
              "      <td>61.89</td>\n",
              "    </tr>\n",
              "    <tr>\n",
              "      <th>2</th>\n",
              "      <td>332.5</td>\n",
              "      <td>142.5</td>\n",
              "      <td>0.0</td>\n",
              "      <td>228.0</td>\n",
              "      <td>0.0</td>\n",
              "      <td>932.0</td>\n",
              "      <td>594.0</td>\n",
              "      <td>270</td>\n",
              "      <td>40.27</td>\n",
              "    </tr>\n",
              "    <tr>\n",
              "      <th>3</th>\n",
              "      <td>332.5</td>\n",
              "      <td>142.5</td>\n",
              "      <td>0.0</td>\n",
              "      <td>228.0</td>\n",
              "      <td>0.0</td>\n",
              "      <td>932.0</td>\n",
              "      <td>594.0</td>\n",
              "      <td>365</td>\n",
              "      <td>41.05</td>\n",
              "    </tr>\n",
              "    <tr>\n",
              "      <th>4</th>\n",
              "      <td>198.6</td>\n",
              "      <td>132.4</td>\n",
              "      <td>0.0</td>\n",
              "      <td>192.0</td>\n",
              "      <td>0.0</td>\n",
              "      <td>978.4</td>\n",
              "      <td>825.5</td>\n",
              "      <td>360</td>\n",
              "      <td>44.30</td>\n",
              "    </tr>\n",
              "  </tbody>\n",
              "</table>\n",
              "</div>"
            ],
            "text/plain": [
              "   Cement  Blast Furnace Slag  Fly Ash  ...  Fine Aggregate  Age  Strength\n",
              "0   540.0                 0.0      0.0  ...           676.0   28     79.99\n",
              "1   540.0                 0.0      0.0  ...           676.0   28     61.89\n",
              "2   332.5               142.5      0.0  ...           594.0  270     40.27\n",
              "3   332.5               142.5      0.0  ...           594.0  365     41.05\n",
              "4   198.6               132.4      0.0  ...           825.5  360     44.30\n",
              "\n",
              "[5 rows x 9 columns]"
            ]
          },
          "metadata": {
            "tags": []
          },
          "execution_count": 2
        }
      ]
    },
    {
      "cell_type": "code",
      "metadata": {
        "id": "_KBEcmkR8IXw",
        "colab_type": "code",
        "outputId": "4d4d5847-01bd-448f-8315-0b0bda1d6c28",
        "colab": {
          "base_uri": "https://localhost:8080/",
          "height": 34
        }
      },
      "source": [
        "concrete_df.shape"
      ],
      "execution_count": 3,
      "outputs": [
        {
          "output_type": "execute_result",
          "data": {
            "text/plain": [
              "(1030, 9)"
            ]
          },
          "metadata": {
            "tags": []
          },
          "execution_count": 3
        }
      ]
    },
    {
      "cell_type": "code",
      "metadata": {
        "id": "jG1KadjD8RsX",
        "colab_type": "code",
        "outputId": "2fd3c10d-5830-4c41-ae0b-e488682dc14c",
        "colab": {
          "base_uri": "https://localhost:8080/",
          "height": 187
        }
      },
      "source": [
        "concrete_df.isnull().sum()"
      ],
      "execution_count": 4,
      "outputs": [
        {
          "output_type": "execute_result",
          "data": {
            "text/plain": [
              "Cement                0\n",
              "Blast Furnace Slag    0\n",
              "Fly Ash               0\n",
              "Water                 0\n",
              "Superplasticizer      0\n",
              "Coarse Aggregate      0\n",
              "Fine Aggregate        0\n",
              "Age                   0\n",
              "Strength              0\n",
              "dtype: int64"
            ]
          },
          "metadata": {
            "tags": []
          },
          "execution_count": 4
        }
      ]
    },
    {
      "cell_type": "code",
      "metadata": {
        "id": "HhTs4R5e8X64",
        "colab_type": "code",
        "outputId": "208653be-8c3c-4a8d-9517-a5347f46e4b6",
        "colab": {
          "base_uri": "https://localhost:8080/",
          "height": 68
        }
      },
      "source": [
        "concrete_df.columns"
      ],
      "execution_count": 5,
      "outputs": [
        {
          "output_type": "execute_result",
          "data": {
            "text/plain": [
              "Index(['Cement', 'Blast Furnace Slag', 'Fly Ash', 'Water', 'Superplasticizer',\n",
              "       'Coarse Aggregate', 'Fine Aggregate', 'Age', 'Strength'],\n",
              "      dtype='object')"
            ]
          },
          "metadata": {
            "tags": []
          },
          "execution_count": 5
        }
      ]
    },
    {
      "cell_type": "code",
      "metadata": {
        "id": "bvxICk-e8eqQ",
        "colab_type": "code",
        "colab": {
          "base_uri": "https://localhost:8080/",
          "height": 419
        },
        "outputId": "2acc3316-ddb9-477c-b00a-ce096b7db0d8"
      },
      "source": [
        "predictors = concrete_df.drop(['Strength'], axis=1)\n",
        "predictors = (predictors - predictors.mean())/predictors.std()\n",
        "target = concrete_df['Strength']\n",
        "predictors"
      ],
      "execution_count": 6,
      "outputs": [
        {
          "output_type": "execute_result",
          "data": {
            "text/html": [
              "<div>\n",
              "<style scoped>\n",
              "    .dataframe tbody tr th:only-of-type {\n",
              "        vertical-align: middle;\n",
              "    }\n",
              "\n",
              "    .dataframe tbody tr th {\n",
              "        vertical-align: top;\n",
              "    }\n",
              "\n",
              "    .dataframe thead th {\n",
              "        text-align: right;\n",
              "    }\n",
              "</style>\n",
              "<table border=\"1\" class=\"dataframe\">\n",
              "  <thead>\n",
              "    <tr style=\"text-align: right;\">\n",
              "      <th></th>\n",
              "      <th>Cement</th>\n",
              "      <th>Blast Furnace Slag</th>\n",
              "      <th>Fly Ash</th>\n",
              "      <th>Water</th>\n",
              "      <th>Superplasticizer</th>\n",
              "      <th>Coarse Aggregate</th>\n",
              "      <th>Fine Aggregate</th>\n",
              "      <th>Age</th>\n",
              "    </tr>\n",
              "  </thead>\n",
              "  <tbody>\n",
              "    <tr>\n",
              "      <th>0</th>\n",
              "      <td>2.476712</td>\n",
              "      <td>-0.856472</td>\n",
              "      <td>-0.846733</td>\n",
              "      <td>-0.916319</td>\n",
              "      <td>-0.620147</td>\n",
              "      <td>0.862735</td>\n",
              "      <td>-1.217079</td>\n",
              "      <td>-0.279597</td>\n",
              "    </tr>\n",
              "    <tr>\n",
              "      <th>1</th>\n",
              "      <td>2.476712</td>\n",
              "      <td>-0.856472</td>\n",
              "      <td>-0.846733</td>\n",
              "      <td>-0.916319</td>\n",
              "      <td>-0.620147</td>\n",
              "      <td>1.055651</td>\n",
              "      <td>-1.217079</td>\n",
              "      <td>-0.279597</td>\n",
              "    </tr>\n",
              "    <tr>\n",
              "      <th>2</th>\n",
              "      <td>0.491187</td>\n",
              "      <td>0.795140</td>\n",
              "      <td>-0.846733</td>\n",
              "      <td>2.174405</td>\n",
              "      <td>-1.038638</td>\n",
              "      <td>-0.526262</td>\n",
              "      <td>-2.239829</td>\n",
              "      <td>3.551340</td>\n",
              "    </tr>\n",
              "    <tr>\n",
              "      <th>3</th>\n",
              "      <td>0.491187</td>\n",
              "      <td>0.795140</td>\n",
              "      <td>-0.846733</td>\n",
              "      <td>2.174405</td>\n",
              "      <td>-1.038638</td>\n",
              "      <td>-0.526262</td>\n",
              "      <td>-2.239829</td>\n",
              "      <td>5.055221</td>\n",
              "    </tr>\n",
              "    <tr>\n",
              "      <th>4</th>\n",
              "      <td>-0.790075</td>\n",
              "      <td>0.678079</td>\n",
              "      <td>-0.846733</td>\n",
              "      <td>0.488555</td>\n",
              "      <td>-1.038638</td>\n",
              "      <td>0.070492</td>\n",
              "      <td>0.647569</td>\n",
              "      <td>4.976069</td>\n",
              "    </tr>\n",
              "    <tr>\n",
              "      <th>...</th>\n",
              "      <td>...</td>\n",
              "      <td>...</td>\n",
              "      <td>...</td>\n",
              "      <td>...</td>\n",
              "      <td>...</td>\n",
              "      <td>...</td>\n",
              "      <td>...</td>\n",
              "      <td>...</td>\n",
              "    </tr>\n",
              "    <tr>\n",
              "      <th>1025</th>\n",
              "      <td>-0.045623</td>\n",
              "      <td>0.487998</td>\n",
              "      <td>0.564271</td>\n",
              "      <td>-0.092126</td>\n",
              "      <td>0.451190</td>\n",
              "      <td>-1.322363</td>\n",
              "      <td>-0.065861</td>\n",
              "      <td>-0.279597</td>\n",
              "    </tr>\n",
              "    <tr>\n",
              "      <th>1026</th>\n",
              "      <td>0.392628</td>\n",
              "      <td>-0.856472</td>\n",
              "      <td>0.959602</td>\n",
              "      <td>0.675872</td>\n",
              "      <td>0.702285</td>\n",
              "      <td>-1.993711</td>\n",
              "      <td>0.496651</td>\n",
              "      <td>-0.279597</td>\n",
              "    </tr>\n",
              "    <tr>\n",
              "      <th>1027</th>\n",
              "      <td>-1.269472</td>\n",
              "      <td>0.759210</td>\n",
              "      <td>0.850222</td>\n",
              "      <td>0.521336</td>\n",
              "      <td>-0.017520</td>\n",
              "      <td>-1.035561</td>\n",
              "      <td>0.080068</td>\n",
              "      <td>-0.279597</td>\n",
              "    </tr>\n",
              "    <tr>\n",
              "      <th>1028</th>\n",
              "      <td>-1.168042</td>\n",
              "      <td>1.307430</td>\n",
              "      <td>-0.846733</td>\n",
              "      <td>-0.279443</td>\n",
              "      <td>0.852942</td>\n",
              "      <td>0.214537</td>\n",
              "      <td>0.191074</td>\n",
              "      <td>-0.279597</td>\n",
              "    </tr>\n",
              "    <tr>\n",
              "      <th>1029</th>\n",
              "      <td>-0.193939</td>\n",
              "      <td>0.308349</td>\n",
              "      <td>0.376762</td>\n",
              "      <td>0.891286</td>\n",
              "      <td>0.400971</td>\n",
              "      <td>-1.394385</td>\n",
              "      <td>-0.150675</td>\n",
              "      <td>-0.279597</td>\n",
              "    </tr>\n",
              "  </tbody>\n",
              "</table>\n",
              "<p>1030 rows × 8 columns</p>\n",
              "</div>"
            ],
            "text/plain": [
              "        Cement  Blast Furnace Slag  ...  Fine Aggregate       Age\n",
              "0     2.476712           -0.856472  ...       -1.217079 -0.279597\n",
              "1     2.476712           -0.856472  ...       -1.217079 -0.279597\n",
              "2     0.491187            0.795140  ...       -2.239829  3.551340\n",
              "3     0.491187            0.795140  ...       -2.239829  5.055221\n",
              "4    -0.790075            0.678079  ...        0.647569  4.976069\n",
              "...        ...                 ...  ...             ...       ...\n",
              "1025 -0.045623            0.487998  ...       -0.065861 -0.279597\n",
              "1026  0.392628           -0.856472  ...        0.496651 -0.279597\n",
              "1027 -1.269472            0.759210  ...        0.080068 -0.279597\n",
              "1028 -1.168042            1.307430  ...        0.191074 -0.279597\n",
              "1029 -0.193939            0.308349  ...       -0.150675 -0.279597\n",
              "\n",
              "[1030 rows x 8 columns]"
            ]
          },
          "metadata": {
            "tags": []
          },
          "execution_count": 6
        }
      ]
    },
    {
      "cell_type": "code",
      "metadata": {
        "id": "mFqvPYz69hKq",
        "colab_type": "code",
        "outputId": "74fca410-8722-46c1-b979-548bec9f5802",
        "colab": {
          "base_uri": "https://localhost:8080/",
          "height": 34
        }
      },
      "source": [
        "n_cols = predictors.shape[1]\n",
        "n_cols"
      ],
      "execution_count": 7,
      "outputs": [
        {
          "output_type": "execute_result",
          "data": {
            "text/plain": [
              "8"
            ]
          },
          "metadata": {
            "tags": []
          },
          "execution_count": 7
        }
      ]
    },
    {
      "cell_type": "code",
      "metadata": {
        "id": "fjo6Xesr9ujd",
        "colab_type": "code",
        "outputId": "8380023d-cd2b-4bc9-9d2c-876dd901448c",
        "colab": {
          "base_uri": "https://localhost:8080/",
          "height": 34
        }
      },
      "source": [
        "import keras\n",
        "from tensorflow.keras.models import Sequential\n",
        "from tensorflow.keras.layers import Dense"
      ],
      "execution_count": 8,
      "outputs": [
        {
          "output_type": "stream",
          "text": [
            "Using TensorFlow backend.\n"
          ],
          "name": "stderr"
        }
      ]
    },
    {
      "cell_type": "code",
      "metadata": {
        "id": "oNXDXaSC9yEh",
        "colab_type": "code",
        "colab": {}
      },
      "source": [
        "def regression_model():\n",
        "  model = Sequential()\n",
        "  model.add(Dense(10, activation='relu', input_shape=(n_cols,)))\n",
        "  model.add(Dense(10, activation='relu'))\n",
        "  model.add(Dense(10, activation='relu'))\n",
        "  model.add(Dense(1))\n",
        "  model.compile(optimizer='adam', loss='mean_squared_error', metrics=['mean_squared_error'])\n",
        "  return model"
      ],
      "execution_count": 0,
      "outputs": []
    },
    {
      "cell_type": "code",
      "metadata": {
        "id": "-uGJPEGxBYHD",
        "colab_type": "code",
        "colab": {}
      },
      "source": [
        "from sklearn.model_selection import train_test_split\n",
        "from sklearn.metrics import mean_squared_error\n",
        "arr_using_keras = []\n",
        "arr_using_scikit = []\n",
        "for i in range(50):\n",
        "  X_train, X_test, y_train, y_test = train_test_split(predictors , target, test_size=0.3)\n",
        "  model = regression_model()\n",
        "  model.fit(X_train, y_train, validation_data=(X_test, y_test), epochs=100, verbose=0)\n",
        "  #Mean Squared Error using Keras\n",
        "  score_using_keras = model.evaluate(X_test, y_test, verbose=0)\n",
        "  arr_using_keras.append(score_using_keras[1])\n",
        "  #Mean Squared Error using Scikit-Learn\n",
        "  pr = model.predict(X_test)\n",
        "  pr = pd.DataFrame(pr)\n",
        "  y_test = pd.DataFrame(y_test)\n",
        "  score_using_scikit = mean_squared_error(y_test,pr)\n",
        "  arr_using_scikit.append(score_using_scikit)"
      ],
      "execution_count": 0,
      "outputs": []
    },
    {
      "cell_type": "code",
      "metadata": {
        "id": "RaVpHXahXRlS",
        "colab_type": "code",
        "outputId": "74b40333-8afd-4e0e-c4c0-6880bf4dfae9",
        "colab": {
          "base_uri": "https://localhost:8080/",
          "height": 102
        }
      },
      "source": [
        "arr_using_keras[:5]"
      ],
      "execution_count": 11,
      "outputs": [
        {
          "output_type": "execute_result",
          "data": {
            "text/plain": [
              "[101.07146453857422,\n",
              " 60.247920989990234,\n",
              " 47.48983383178711,\n",
              " 104.86532592773438,\n",
              " 103.97105407714844]"
            ]
          },
          "metadata": {
            "tags": []
          },
          "execution_count": 11
        }
      ]
    },
    {
      "cell_type": "code",
      "metadata": {
        "id": "e9R8yjJLdmzh",
        "colab_type": "code",
        "outputId": "17b98407-6fe3-4cd8-d304-f9fe33da6591",
        "colab": {
          "base_uri": "https://localhost:8080/",
          "height": 102
        }
      },
      "source": [
        "arr_using_scikit[:5]"
      ],
      "execution_count": 12,
      "outputs": [
        {
          "output_type": "execute_result",
          "data": {
            "text/plain": [
              "[101.07146620277123,\n",
              " 60.24791809158358,\n",
              " 47.48983526785484,\n",
              " 104.86533277790898,\n",
              " 103.97104682834694]"
            ]
          },
          "metadata": {
            "tags": []
          },
          "execution_count": 12
        }
      ]
    },
    {
      "cell_type": "code",
      "metadata": {
        "id": "YEfGc8dehL6S",
        "colab_type": "code",
        "colab": {}
      },
      "source": [
        "import statistics \n",
        "mean_keras_arr = statistics.mean(arr_using_keras)\n",
        "stdev_keras_arr = statistics.stdev(arr_using_keras)\n",
        "mean_scikit_arr = statistics.mean(arr_using_scikit)\n",
        "stdev_scikit_arr = statistics.stdev(arr_using_scikit)"
      ],
      "execution_count": 0,
      "outputs": []
    },
    {
      "cell_type": "code",
      "metadata": {
        "id": "ZRAsZ8Oxi6x1",
        "colab_type": "code",
        "outputId": "494a155d-7736-4bec-9fe9-06a233e4a520",
        "colab": {
          "base_uri": "https://localhost:8080/",
          "height": 34
        }
      },
      "source": [
        "print(\"using keras evaluate, mean of error = \",round(mean_keras_arr,3), \"and standard deviation of error = \",round(stdev_keras_arr,3))"
      ],
      "execution_count": 14,
      "outputs": [
        {
          "output_type": "stream",
          "text": [
            "using keras evaluate, mean of error =  95.341 and standard deviation of error =  22.606\n"
          ],
          "name": "stdout"
        }
      ]
    },
    {
      "cell_type": "code",
      "metadata": {
        "id": "PYxeCSR_m1r2",
        "colab_type": "code",
        "colab": {
          "base_uri": "https://localhost:8080/",
          "height": 34
        },
        "outputId": "d01120bb-24b5-4d2e-e7e6-6dceffbe8f58"
      },
      "source": [
        "print(\"using scikit learn MSE, mean of error = \",round(mean_scikit_arr,3), \"and standard deviation of error = \",round(stdev_scikit_arr,3))"
      ],
      "execution_count": 15,
      "outputs": [
        {
          "output_type": "stream",
          "text": [
            "using scikit learn MSE, mean of error =  95.341 and standard deviation of error =  22.606\n"
          ],
          "name": "stdout"
        }
      ]
    },
    {
      "cell_type": "code",
      "metadata": {
        "id": "zL5ElzzHD2sC",
        "colab_type": "code",
        "colab": {}
      },
      "source": [
        ""
      ],
      "execution_count": 0,
      "outputs": []
    }
  ]
}