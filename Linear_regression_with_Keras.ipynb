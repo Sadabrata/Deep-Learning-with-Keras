{
  "nbformat": 4,
  "nbformat_minor": 0,
  "metadata": {
    "colab": {
      "name": "Linear regression with Keras",
      "provenance": [],
      "collapsed_sections": [],
      "authorship_tag": "ABX9TyPfAEuzM3MEqp11Y+8ewULZ"
    },
    "kernelspec": {
      "name": "python3",
      "display_name": "Python 3"
    }
  },
  "cells": [
    {
      "cell_type": "code",
      "metadata": {
        "id": "bLd5dSh-zGjU",
        "colab_type": "code",
        "colab": {}
      },
      "source": [
        "import numpy as np\n",
        "import pandas as pd"
      ],
      "execution_count": 0,
      "outputs": []
    },
    {
      "cell_type": "code",
      "metadata": {
        "id": "7R4QC7HkzX38",
        "colab_type": "code",
        "outputId": "f00ef1db-b3b4-4afd-c5b9-aac72a9bc8bd",
        "colab": {
          "base_uri": "https://localhost:8080/",
          "height": 204
        }
      },
      "source": [
        "concrete_data = pd.read_csv('https://s3-api.us-geo.objectstorage.softlayer.net/cf-courses-data/CognitiveClass/DL0101EN/labs/data/concrete_data.csv')\n",
        "concrete_data.head()"
      ],
      "execution_count": 0,
      "outputs": [
        {
          "output_type": "execute_result",
          "data": {
            "text/html": [
              "<div>\n",
              "<style scoped>\n",
              "    .dataframe tbody tr th:only-of-type {\n",
              "        vertical-align: middle;\n",
              "    }\n",
              "\n",
              "    .dataframe tbody tr th {\n",
              "        vertical-align: top;\n",
              "    }\n",
              "\n",
              "    .dataframe thead th {\n",
              "        text-align: right;\n",
              "    }\n",
              "</style>\n",
              "<table border=\"1\" class=\"dataframe\">\n",
              "  <thead>\n",
              "    <tr style=\"text-align: right;\">\n",
              "      <th></th>\n",
              "      <th>Cement</th>\n",
              "      <th>Blast Furnace Slag</th>\n",
              "      <th>Fly Ash</th>\n",
              "      <th>Water</th>\n",
              "      <th>Superplasticizer</th>\n",
              "      <th>Coarse Aggregate</th>\n",
              "      <th>Fine Aggregate</th>\n",
              "      <th>Age</th>\n",
              "      <th>Strength</th>\n",
              "    </tr>\n",
              "  </thead>\n",
              "  <tbody>\n",
              "    <tr>\n",
              "      <th>0</th>\n",
              "      <td>540.0</td>\n",
              "      <td>0.0</td>\n",
              "      <td>0.0</td>\n",
              "      <td>162.0</td>\n",
              "      <td>2.5</td>\n",
              "      <td>1040.0</td>\n",
              "      <td>676.0</td>\n",
              "      <td>28</td>\n",
              "      <td>79.99</td>\n",
              "    </tr>\n",
              "    <tr>\n",
              "      <th>1</th>\n",
              "      <td>540.0</td>\n",
              "      <td>0.0</td>\n",
              "      <td>0.0</td>\n",
              "      <td>162.0</td>\n",
              "      <td>2.5</td>\n",
              "      <td>1055.0</td>\n",
              "      <td>676.0</td>\n",
              "      <td>28</td>\n",
              "      <td>61.89</td>\n",
              "    </tr>\n",
              "    <tr>\n",
              "      <th>2</th>\n",
              "      <td>332.5</td>\n",
              "      <td>142.5</td>\n",
              "      <td>0.0</td>\n",
              "      <td>228.0</td>\n",
              "      <td>0.0</td>\n",
              "      <td>932.0</td>\n",
              "      <td>594.0</td>\n",
              "      <td>270</td>\n",
              "      <td>40.27</td>\n",
              "    </tr>\n",
              "    <tr>\n",
              "      <th>3</th>\n",
              "      <td>332.5</td>\n",
              "      <td>142.5</td>\n",
              "      <td>0.0</td>\n",
              "      <td>228.0</td>\n",
              "      <td>0.0</td>\n",
              "      <td>932.0</td>\n",
              "      <td>594.0</td>\n",
              "      <td>365</td>\n",
              "      <td>41.05</td>\n",
              "    </tr>\n",
              "    <tr>\n",
              "      <th>4</th>\n",
              "      <td>198.6</td>\n",
              "      <td>132.4</td>\n",
              "      <td>0.0</td>\n",
              "      <td>192.0</td>\n",
              "      <td>0.0</td>\n",
              "      <td>978.4</td>\n",
              "      <td>825.5</td>\n",
              "      <td>360</td>\n",
              "      <td>44.30</td>\n",
              "    </tr>\n",
              "  </tbody>\n",
              "</table>\n",
              "</div>"
            ],
            "text/plain": [
              "   Cement  Blast Furnace Slag  Fly Ash  ...  Fine Aggregate  Age  Strength\n",
              "0   540.0                 0.0      0.0  ...           676.0   28     79.99\n",
              "1   540.0                 0.0      0.0  ...           676.0   28     61.89\n",
              "2   332.5               142.5      0.0  ...           594.0  270     40.27\n",
              "3   332.5               142.5      0.0  ...           594.0  365     41.05\n",
              "4   198.6               132.4      0.0  ...           825.5  360     44.30\n",
              "\n",
              "[5 rows x 9 columns]"
            ]
          },
          "metadata": {
            "tags": []
          },
          "execution_count": 23
        }
      ]
    },
    {
      "cell_type": "code",
      "metadata": {
        "id": "o7xCzG7e_FAp",
        "colab_type": "code",
        "outputId": "b48792e9-02de-46a9-e513-311deb299f13",
        "colab": {
          "base_uri": "https://localhost:8080/",
          "height": 34
        }
      },
      "source": [
        "concrete_data.shape"
      ],
      "execution_count": 0,
      "outputs": [
        {
          "output_type": "execute_result",
          "data": {
            "text/plain": [
              "(1030, 9)"
            ]
          },
          "metadata": {
            "tags": []
          },
          "execution_count": 24
        }
      ]
    },
    {
      "cell_type": "code",
      "metadata": {
        "id": "2o2LBmya_Ial",
        "colab_type": "code",
        "outputId": "d5d00733-a457-48b3-bd91-6d85d9b51485",
        "colab": {
          "base_uri": "https://localhost:8080/",
          "height": 297
        }
      },
      "source": [
        "concrete_data.describe()"
      ],
      "execution_count": 0,
      "outputs": [
        {
          "output_type": "execute_result",
          "data": {
            "text/html": [
              "<div>\n",
              "<style scoped>\n",
              "    .dataframe tbody tr th:only-of-type {\n",
              "        vertical-align: middle;\n",
              "    }\n",
              "\n",
              "    .dataframe tbody tr th {\n",
              "        vertical-align: top;\n",
              "    }\n",
              "\n",
              "    .dataframe thead th {\n",
              "        text-align: right;\n",
              "    }\n",
              "</style>\n",
              "<table border=\"1\" class=\"dataframe\">\n",
              "  <thead>\n",
              "    <tr style=\"text-align: right;\">\n",
              "      <th></th>\n",
              "      <th>Cement</th>\n",
              "      <th>Blast Furnace Slag</th>\n",
              "      <th>Fly Ash</th>\n",
              "      <th>Water</th>\n",
              "      <th>Superplasticizer</th>\n",
              "      <th>Coarse Aggregate</th>\n",
              "      <th>Fine Aggregate</th>\n",
              "      <th>Age</th>\n",
              "      <th>Strength</th>\n",
              "    </tr>\n",
              "  </thead>\n",
              "  <tbody>\n",
              "    <tr>\n",
              "      <th>count</th>\n",
              "      <td>1030.000000</td>\n",
              "      <td>1030.000000</td>\n",
              "      <td>1030.000000</td>\n",
              "      <td>1030.000000</td>\n",
              "      <td>1030.000000</td>\n",
              "      <td>1030.000000</td>\n",
              "      <td>1030.000000</td>\n",
              "      <td>1030.000000</td>\n",
              "      <td>1030.000000</td>\n",
              "    </tr>\n",
              "    <tr>\n",
              "      <th>mean</th>\n",
              "      <td>281.167864</td>\n",
              "      <td>73.895825</td>\n",
              "      <td>54.188350</td>\n",
              "      <td>181.567282</td>\n",
              "      <td>6.204660</td>\n",
              "      <td>972.918932</td>\n",
              "      <td>773.580485</td>\n",
              "      <td>45.662136</td>\n",
              "      <td>35.817961</td>\n",
              "    </tr>\n",
              "    <tr>\n",
              "      <th>std</th>\n",
              "      <td>104.506364</td>\n",
              "      <td>86.279342</td>\n",
              "      <td>63.997004</td>\n",
              "      <td>21.354219</td>\n",
              "      <td>5.973841</td>\n",
              "      <td>77.753954</td>\n",
              "      <td>80.175980</td>\n",
              "      <td>63.169912</td>\n",
              "      <td>16.705742</td>\n",
              "    </tr>\n",
              "    <tr>\n",
              "      <th>min</th>\n",
              "      <td>102.000000</td>\n",
              "      <td>0.000000</td>\n",
              "      <td>0.000000</td>\n",
              "      <td>121.800000</td>\n",
              "      <td>0.000000</td>\n",
              "      <td>801.000000</td>\n",
              "      <td>594.000000</td>\n",
              "      <td>1.000000</td>\n",
              "      <td>2.330000</td>\n",
              "    </tr>\n",
              "    <tr>\n",
              "      <th>25%</th>\n",
              "      <td>192.375000</td>\n",
              "      <td>0.000000</td>\n",
              "      <td>0.000000</td>\n",
              "      <td>164.900000</td>\n",
              "      <td>0.000000</td>\n",
              "      <td>932.000000</td>\n",
              "      <td>730.950000</td>\n",
              "      <td>7.000000</td>\n",
              "      <td>23.710000</td>\n",
              "    </tr>\n",
              "    <tr>\n",
              "      <th>50%</th>\n",
              "      <td>272.900000</td>\n",
              "      <td>22.000000</td>\n",
              "      <td>0.000000</td>\n",
              "      <td>185.000000</td>\n",
              "      <td>6.400000</td>\n",
              "      <td>968.000000</td>\n",
              "      <td>779.500000</td>\n",
              "      <td>28.000000</td>\n",
              "      <td>34.445000</td>\n",
              "    </tr>\n",
              "    <tr>\n",
              "      <th>75%</th>\n",
              "      <td>350.000000</td>\n",
              "      <td>142.950000</td>\n",
              "      <td>118.300000</td>\n",
              "      <td>192.000000</td>\n",
              "      <td>10.200000</td>\n",
              "      <td>1029.400000</td>\n",
              "      <td>824.000000</td>\n",
              "      <td>56.000000</td>\n",
              "      <td>46.135000</td>\n",
              "    </tr>\n",
              "    <tr>\n",
              "      <th>max</th>\n",
              "      <td>540.000000</td>\n",
              "      <td>359.400000</td>\n",
              "      <td>200.100000</td>\n",
              "      <td>247.000000</td>\n",
              "      <td>32.200000</td>\n",
              "      <td>1145.000000</td>\n",
              "      <td>992.600000</td>\n",
              "      <td>365.000000</td>\n",
              "      <td>82.600000</td>\n",
              "    </tr>\n",
              "  </tbody>\n",
              "</table>\n",
              "</div>"
            ],
            "text/plain": [
              "            Cement  Blast Furnace Slag  ...          Age     Strength\n",
              "count  1030.000000         1030.000000  ...  1030.000000  1030.000000\n",
              "mean    281.167864           73.895825  ...    45.662136    35.817961\n",
              "std     104.506364           86.279342  ...    63.169912    16.705742\n",
              "min     102.000000            0.000000  ...     1.000000     2.330000\n",
              "25%     192.375000            0.000000  ...     7.000000    23.710000\n",
              "50%     272.900000           22.000000  ...    28.000000    34.445000\n",
              "75%     350.000000          142.950000  ...    56.000000    46.135000\n",
              "max     540.000000          359.400000  ...   365.000000    82.600000\n",
              "\n",
              "[8 rows x 9 columns]"
            ]
          },
          "metadata": {
            "tags": []
          },
          "execution_count": 25
        }
      ]
    },
    {
      "cell_type": "code",
      "metadata": {
        "id": "CWzKXL3F_Kox",
        "colab_type": "code",
        "outputId": "146b279e-4f9b-40fb-9911-3aa9193afacc",
        "colab": {
          "base_uri": "https://localhost:8080/",
          "height": 187
        }
      },
      "source": [
        "concrete_data.isnull().sum()"
      ],
      "execution_count": 0,
      "outputs": [
        {
          "output_type": "execute_result",
          "data": {
            "text/plain": [
              "Cement                0\n",
              "Blast Furnace Slag    0\n",
              "Fly Ash               0\n",
              "Water                 0\n",
              "Superplasticizer      0\n",
              "Coarse Aggregate      0\n",
              "Fine Aggregate        0\n",
              "Age                   0\n",
              "Strength              0\n",
              "dtype: int64"
            ]
          },
          "metadata": {
            "tags": []
          },
          "execution_count": 26
        }
      ]
    },
    {
      "cell_type": "code",
      "metadata": {
        "id": "xiWa5Z5p_MvO",
        "colab_type": "code",
        "colab": {}
      },
      "source": [
        "concrete_data_columns = concrete_data.columns\n",
        "\n",
        "#predictors = concrete_data[concrete_data_columns[concrete_data_columns != 'Strength']] # all columns except Strength\n",
        "predictors = concrete_data.drop(['Strength'], axis=1)\n",
        "target = concrete_data['Strength'] # Strength column"
      ],
      "execution_count": 0,
      "outputs": []
    },
    {
      "cell_type": "code",
      "metadata": {
        "id": "ksLUoCSL_Qgt",
        "colab_type": "code",
        "outputId": "99d110d6-d8ff-43be-aa35-52ffc3c493f0",
        "colab": {
          "base_uri": "https://localhost:8080/",
          "height": 204
        }
      },
      "source": [
        "predictors.head()"
      ],
      "execution_count": 0,
      "outputs": [
        {
          "output_type": "execute_result",
          "data": {
            "text/html": [
              "<div>\n",
              "<style scoped>\n",
              "    .dataframe tbody tr th:only-of-type {\n",
              "        vertical-align: middle;\n",
              "    }\n",
              "\n",
              "    .dataframe tbody tr th {\n",
              "        vertical-align: top;\n",
              "    }\n",
              "\n",
              "    .dataframe thead th {\n",
              "        text-align: right;\n",
              "    }\n",
              "</style>\n",
              "<table border=\"1\" class=\"dataframe\">\n",
              "  <thead>\n",
              "    <tr style=\"text-align: right;\">\n",
              "      <th></th>\n",
              "      <th>Cement</th>\n",
              "      <th>Blast Furnace Slag</th>\n",
              "      <th>Fly Ash</th>\n",
              "      <th>Water</th>\n",
              "      <th>Superplasticizer</th>\n",
              "      <th>Coarse Aggregate</th>\n",
              "      <th>Fine Aggregate</th>\n",
              "      <th>Age</th>\n",
              "    </tr>\n",
              "  </thead>\n",
              "  <tbody>\n",
              "    <tr>\n",
              "      <th>0</th>\n",
              "      <td>540.0</td>\n",
              "      <td>0.0</td>\n",
              "      <td>0.0</td>\n",
              "      <td>162.0</td>\n",
              "      <td>2.5</td>\n",
              "      <td>1040.0</td>\n",
              "      <td>676.0</td>\n",
              "      <td>28</td>\n",
              "    </tr>\n",
              "    <tr>\n",
              "      <th>1</th>\n",
              "      <td>540.0</td>\n",
              "      <td>0.0</td>\n",
              "      <td>0.0</td>\n",
              "      <td>162.0</td>\n",
              "      <td>2.5</td>\n",
              "      <td>1055.0</td>\n",
              "      <td>676.0</td>\n",
              "      <td>28</td>\n",
              "    </tr>\n",
              "    <tr>\n",
              "      <th>2</th>\n",
              "      <td>332.5</td>\n",
              "      <td>142.5</td>\n",
              "      <td>0.0</td>\n",
              "      <td>228.0</td>\n",
              "      <td>0.0</td>\n",
              "      <td>932.0</td>\n",
              "      <td>594.0</td>\n",
              "      <td>270</td>\n",
              "    </tr>\n",
              "    <tr>\n",
              "      <th>3</th>\n",
              "      <td>332.5</td>\n",
              "      <td>142.5</td>\n",
              "      <td>0.0</td>\n",
              "      <td>228.0</td>\n",
              "      <td>0.0</td>\n",
              "      <td>932.0</td>\n",
              "      <td>594.0</td>\n",
              "      <td>365</td>\n",
              "    </tr>\n",
              "    <tr>\n",
              "      <th>4</th>\n",
              "      <td>198.6</td>\n",
              "      <td>132.4</td>\n",
              "      <td>0.0</td>\n",
              "      <td>192.0</td>\n",
              "      <td>0.0</td>\n",
              "      <td>978.4</td>\n",
              "      <td>825.5</td>\n",
              "      <td>360</td>\n",
              "    </tr>\n",
              "  </tbody>\n",
              "</table>\n",
              "</div>"
            ],
            "text/plain": [
              "   Cement  Blast Furnace Slag  Fly Ash  ...  Coarse Aggregate  Fine Aggregate  Age\n",
              "0   540.0                 0.0      0.0  ...            1040.0           676.0   28\n",
              "1   540.0                 0.0      0.0  ...            1055.0           676.0   28\n",
              "2   332.5               142.5      0.0  ...             932.0           594.0  270\n",
              "3   332.5               142.5      0.0  ...             932.0           594.0  365\n",
              "4   198.6               132.4      0.0  ...             978.4           825.5  360\n",
              "\n",
              "[5 rows x 8 columns]"
            ]
          },
          "metadata": {
            "tags": []
          },
          "execution_count": 28
        }
      ]
    },
    {
      "cell_type": "code",
      "metadata": {
        "id": "WiVJ4Fzz_TsE",
        "colab_type": "code",
        "outputId": "c741d063-7198-4a3c-8695-ba911b5d3f55",
        "colab": {
          "base_uri": "https://localhost:8080/",
          "height": 119
        }
      },
      "source": [
        "target.head()"
      ],
      "execution_count": 0,
      "outputs": [
        {
          "output_type": "execute_result",
          "data": {
            "text/plain": [
              "0    79.99\n",
              "1    61.89\n",
              "2    40.27\n",
              "3    41.05\n",
              "4    44.30\n",
              "Name: Strength, dtype: float64"
            ]
          },
          "metadata": {
            "tags": []
          },
          "execution_count": 29
        }
      ]
    },
    {
      "cell_type": "code",
      "metadata": {
        "id": "IdmiH1ow_YbM",
        "colab_type": "code",
        "outputId": "96d1661e-a81e-4df2-9e06-515e41c6dd0d",
        "colab": {
          "base_uri": "https://localhost:8080/",
          "height": 204
        }
      },
      "source": [
        "predictors_norm = (predictors - predictors.mean()) / predictors.std()\n",
        "predictors_norm.head()"
      ],
      "execution_count": 0,
      "outputs": [
        {
          "output_type": "execute_result",
          "data": {
            "text/html": [
              "<div>\n",
              "<style scoped>\n",
              "    .dataframe tbody tr th:only-of-type {\n",
              "        vertical-align: middle;\n",
              "    }\n",
              "\n",
              "    .dataframe tbody tr th {\n",
              "        vertical-align: top;\n",
              "    }\n",
              "\n",
              "    .dataframe thead th {\n",
              "        text-align: right;\n",
              "    }\n",
              "</style>\n",
              "<table border=\"1\" class=\"dataframe\">\n",
              "  <thead>\n",
              "    <tr style=\"text-align: right;\">\n",
              "      <th></th>\n",
              "      <th>Cement</th>\n",
              "      <th>Blast Furnace Slag</th>\n",
              "      <th>Fly Ash</th>\n",
              "      <th>Water</th>\n",
              "      <th>Superplasticizer</th>\n",
              "      <th>Coarse Aggregate</th>\n",
              "      <th>Fine Aggregate</th>\n",
              "      <th>Age</th>\n",
              "    </tr>\n",
              "  </thead>\n",
              "  <tbody>\n",
              "    <tr>\n",
              "      <th>0</th>\n",
              "      <td>2.476712</td>\n",
              "      <td>-0.856472</td>\n",
              "      <td>-0.846733</td>\n",
              "      <td>-0.916319</td>\n",
              "      <td>-0.620147</td>\n",
              "      <td>0.862735</td>\n",
              "      <td>-1.217079</td>\n",
              "      <td>-0.279597</td>\n",
              "    </tr>\n",
              "    <tr>\n",
              "      <th>1</th>\n",
              "      <td>2.476712</td>\n",
              "      <td>-0.856472</td>\n",
              "      <td>-0.846733</td>\n",
              "      <td>-0.916319</td>\n",
              "      <td>-0.620147</td>\n",
              "      <td>1.055651</td>\n",
              "      <td>-1.217079</td>\n",
              "      <td>-0.279597</td>\n",
              "    </tr>\n",
              "    <tr>\n",
              "      <th>2</th>\n",
              "      <td>0.491187</td>\n",
              "      <td>0.795140</td>\n",
              "      <td>-0.846733</td>\n",
              "      <td>2.174405</td>\n",
              "      <td>-1.038638</td>\n",
              "      <td>-0.526262</td>\n",
              "      <td>-2.239829</td>\n",
              "      <td>3.551340</td>\n",
              "    </tr>\n",
              "    <tr>\n",
              "      <th>3</th>\n",
              "      <td>0.491187</td>\n",
              "      <td>0.795140</td>\n",
              "      <td>-0.846733</td>\n",
              "      <td>2.174405</td>\n",
              "      <td>-1.038638</td>\n",
              "      <td>-0.526262</td>\n",
              "      <td>-2.239829</td>\n",
              "      <td>5.055221</td>\n",
              "    </tr>\n",
              "    <tr>\n",
              "      <th>4</th>\n",
              "      <td>-0.790075</td>\n",
              "      <td>0.678079</td>\n",
              "      <td>-0.846733</td>\n",
              "      <td>0.488555</td>\n",
              "      <td>-1.038638</td>\n",
              "      <td>0.070492</td>\n",
              "      <td>0.647569</td>\n",
              "      <td>4.976069</td>\n",
              "    </tr>\n",
              "  </tbody>\n",
              "</table>\n",
              "</div>"
            ],
            "text/plain": [
              "     Cement  Blast Furnace Slag  ...  Fine Aggregate       Age\n",
              "0  2.476712           -0.856472  ...       -1.217079 -0.279597\n",
              "1  2.476712           -0.856472  ...       -1.217079 -0.279597\n",
              "2  0.491187            0.795140  ...       -2.239829  3.551340\n",
              "3  0.491187            0.795140  ...       -2.239829  5.055221\n",
              "4 -0.790075            0.678079  ...        0.647569  4.976069\n",
              "\n",
              "[5 rows x 8 columns]"
            ]
          },
          "metadata": {
            "tags": []
          },
          "execution_count": 30
        }
      ]
    },
    {
      "cell_type": "code",
      "metadata": {
        "id": "VbqvmchZ_a_y",
        "colab_type": "code",
        "outputId": "3419fae1-f802-4016-e404-611a58ceb1f5",
        "colab": {
          "base_uri": "https://localhost:8080/",
          "height": 34
        }
      },
      "source": [
        "n_cols = predictors_norm.shape[1] # number of predictors\n",
        "n_cols"
      ],
      "execution_count": 0,
      "outputs": [
        {
          "output_type": "execute_result",
          "data": {
            "text/plain": [
              "8"
            ]
          },
          "metadata": {
            "tags": []
          },
          "execution_count": 31
        }
      ]
    },
    {
      "cell_type": "code",
      "metadata": {
        "id": "0L0eN8AX_e8o",
        "colab_type": "code",
        "colab": {}
      },
      "source": [
        "import keras\n",
        "from tensorflow.python.keras.layers import Dense\n",
        "from tensorflow.python.keras import Sequential"
      ],
      "execution_count": 0,
      "outputs": []
    },
    {
      "cell_type": "code",
      "metadata": {
        "id": "e5W4b6Sh_iJZ",
        "colab_type": "code",
        "colab": {}
      },
      "source": [
        "# define regression model\n",
        "def regression_model():\n",
        "    # create model\n",
        "    model = Sequential()\n",
        "    model.add(Dense(50, activation='relu', input_shape=(n_cols,)))\n",
        "    model.add(Dense(50, activation='relu'))\n",
        "    model.add(Dense(1))\n",
        "    \n",
        "    # compile model\n",
        "    model.compile(optimizer='adam', loss='mean_squared_error')\n",
        "    return model"
      ],
      "execution_count": 0,
      "outputs": []
    },
    {
      "cell_type": "code",
      "metadata": {
        "id": "lB4XvPMw_kL3",
        "colab_type": "code",
        "colab": {}
      },
      "source": [
        "# build the model\n",
        "model = regression_model()"
      ],
      "execution_count": 0,
      "outputs": []
    },
    {
      "cell_type": "code",
      "metadata": {
        "id": "PmMAIVQw_m_B",
        "colab_type": "code",
        "outputId": "9b86f380-34ae-419b-ed18-23b309f88049",
        "colab": {
          "base_uri": "https://localhost:8080/",
          "height": 1000
        }
      },
      "source": [
        "# fit the model\n",
        "model.fit(predictors_norm, target, validation_split=0.3, epochs=100, verbose=2)"
      ],
      "execution_count": 0,
      "outputs": [
        {
          "output_type": "stream",
          "text": [
            "Epoch 1/100\n",
            "23/23 - 0s - loss: 1623.9987 - val_loss: 1142.3782\n",
            "Epoch 2/100\n",
            "23/23 - 0s - loss: 1475.3186 - val_loss: 1011.6069\n",
            "Epoch 3/100\n",
            "23/23 - 0s - loss: 1234.5857 - val_loss: 815.7385\n",
            "Epoch 4/100\n",
            "23/23 - 0s - loss: 900.8224 - val_loss: 571.2235\n",
            "Epoch 5/100\n",
            "23/23 - 0s - loss: 547.7703 - val_loss: 338.5709\n",
            "Epoch 6/100\n",
            "23/23 - 0s - loss: 312.5662 - val_loss: 209.7325\n",
            "Epoch 7/100\n",
            "23/23 - 0s - loss: 236.8719 - val_loss: 174.1051\n",
            "Epoch 8/100\n",
            "23/23 - 0s - loss: 222.7698 - val_loss: 168.8069\n",
            "Epoch 9/100\n",
            "23/23 - 0s - loss: 214.6686 - val_loss: 166.5046\n",
            "Epoch 10/100\n",
            "23/23 - 0s - loss: 203.7246 - val_loss: 163.6210\n",
            "Epoch 11/100\n",
            "23/23 - 0s - loss: 194.4302 - val_loss: 160.6877\n",
            "Epoch 12/100\n",
            "23/23 - 0s - loss: 188.4521 - val_loss: 156.9956\n",
            "Epoch 13/100\n",
            "23/23 - 0s - loss: 185.2667 - val_loss: 156.7570\n",
            "Epoch 14/100\n",
            "23/23 - 0s - loss: 178.9476 - val_loss: 153.0546\n",
            "Epoch 15/100\n",
            "23/23 - 0s - loss: 173.2002 - val_loss: 153.3206\n",
            "Epoch 16/100\n",
            "23/23 - 0s - loss: 170.5301 - val_loss: 150.8055\n",
            "Epoch 17/100\n",
            "23/23 - 0s - loss: 167.4292 - val_loss: 148.5650\n",
            "Epoch 18/100\n",
            "23/23 - 0s - loss: 161.0446 - val_loss: 147.9879\n",
            "Epoch 19/100\n",
            "23/23 - 0s - loss: 158.7745 - val_loss: 147.9828\n",
            "Epoch 20/100\n",
            "23/23 - 0s - loss: 156.4740 - val_loss: 147.5162\n",
            "Epoch 21/100\n",
            "23/23 - 0s - loss: 155.4189 - val_loss: 147.9431\n",
            "Epoch 22/100\n",
            "23/23 - 0s - loss: 154.4186 - val_loss: 147.4384\n",
            "Epoch 23/100\n",
            "23/23 - 0s - loss: 150.8949 - val_loss: 147.1064\n",
            "Epoch 24/100\n",
            "23/23 - 0s - loss: 148.6483 - val_loss: 147.4919\n",
            "Epoch 25/100\n",
            "23/23 - 0s - loss: 148.3342 - val_loss: 148.0547\n",
            "Epoch 26/100\n",
            "23/23 - 0s - loss: 147.2295 - val_loss: 149.1643\n",
            "Epoch 27/100\n",
            "23/23 - 0s - loss: 143.0839 - val_loss: 147.9776\n",
            "Epoch 28/100\n",
            "23/23 - 0s - loss: 141.7386 - val_loss: 150.7955\n",
            "Epoch 29/100\n",
            "23/23 - 0s - loss: 140.1913 - val_loss: 149.1726\n",
            "Epoch 30/100\n",
            "23/23 - 0s - loss: 141.2927 - val_loss: 153.1360\n",
            "Epoch 31/100\n",
            "23/23 - 0s - loss: 139.7118 - val_loss: 151.7002\n",
            "Epoch 32/100\n",
            "23/23 - 0s - loss: 137.5445 - val_loss: 154.5537\n",
            "Epoch 33/100\n",
            "23/23 - 0s - loss: 135.5001 - val_loss: 154.3284\n",
            "Epoch 34/100\n",
            "23/23 - 0s - loss: 134.8707 - val_loss: 155.2101\n",
            "Epoch 35/100\n",
            "23/23 - 0s - loss: 134.4512 - val_loss: 154.9995\n",
            "Epoch 36/100\n",
            "23/23 - 0s - loss: 133.0796 - val_loss: 155.8338\n",
            "Epoch 37/100\n",
            "23/23 - 0s - loss: 133.5751 - val_loss: 157.5717\n",
            "Epoch 38/100\n",
            "23/23 - 0s - loss: 131.0117 - val_loss: 156.5374\n",
            "Epoch 39/100\n",
            "23/23 - 0s - loss: 129.5936 - val_loss: 157.9580\n",
            "Epoch 40/100\n",
            "23/23 - 0s - loss: 128.9377 - val_loss: 157.0348\n",
            "Epoch 41/100\n",
            "23/23 - 0s - loss: 127.7920 - val_loss: 158.8087\n",
            "Epoch 42/100\n",
            "23/23 - 0s - loss: 127.3282 - val_loss: 156.8372\n",
            "Epoch 43/100\n",
            "23/23 - 0s - loss: 127.8425 - val_loss: 159.6944\n",
            "Epoch 44/100\n",
            "23/23 - 0s - loss: 125.3819 - val_loss: 154.3587\n",
            "Epoch 45/100\n",
            "23/23 - 0s - loss: 123.2615 - val_loss: 158.4937\n",
            "Epoch 46/100\n",
            "23/23 - 0s - loss: 124.1318 - val_loss: 162.0629\n",
            "Epoch 47/100\n",
            "23/23 - 0s - loss: 121.4904 - val_loss: 156.9053\n",
            "Epoch 48/100\n",
            "23/23 - 0s - loss: 119.7834 - val_loss: 159.8445\n",
            "Epoch 49/100\n",
            "23/23 - 0s - loss: 119.3840 - val_loss: 156.3986\n",
            "Epoch 50/100\n",
            "23/23 - 0s - loss: 121.1964 - val_loss: 158.6530\n",
            "Epoch 51/100\n",
            "23/23 - 0s - loss: 118.3446 - val_loss: 155.1865\n",
            "Epoch 52/100\n",
            "23/23 - 0s - loss: 115.7120 - val_loss: 152.4468\n",
            "Epoch 53/100\n",
            "23/23 - 0s - loss: 114.4994 - val_loss: 156.8403\n",
            "Epoch 54/100\n",
            "23/23 - 0s - loss: 112.2630 - val_loss: 153.2465\n",
            "Epoch 55/100\n",
            "23/23 - 0s - loss: 112.0857 - val_loss: 155.7144\n",
            "Epoch 56/100\n",
            "23/23 - 0s - loss: 108.9353 - val_loss: 151.9713\n",
            "Epoch 57/100\n",
            "23/23 - 0s - loss: 107.9191 - val_loss: 151.0882\n",
            "Epoch 58/100\n",
            "23/23 - 0s - loss: 105.2162 - val_loss: 148.8369\n",
            "Epoch 59/100\n",
            "23/23 - 0s - loss: 103.2740 - val_loss: 147.7357\n",
            "Epoch 60/100\n",
            "23/23 - 0s - loss: 100.8527 - val_loss: 147.0121\n",
            "Epoch 61/100\n",
            "23/23 - 0s - loss: 98.6748 - val_loss: 144.5604\n",
            "Epoch 62/100\n",
            "23/23 - 0s - loss: 96.5331 - val_loss: 144.9088\n",
            "Epoch 63/100\n",
            "23/23 - 0s - loss: 94.0519 - val_loss: 150.0452\n",
            "Epoch 64/100\n",
            "23/23 - 0s - loss: 91.1430 - val_loss: 139.6275\n",
            "Epoch 65/100\n",
            "23/23 - 0s - loss: 88.0590 - val_loss: 141.0602\n",
            "Epoch 66/100\n",
            "23/23 - 0s - loss: 85.1275 - val_loss: 140.2245\n",
            "Epoch 67/100\n",
            "23/23 - 0s - loss: 80.4766 - val_loss: 136.4642\n",
            "Epoch 68/100\n",
            "23/23 - 0s - loss: 77.9259 - val_loss: 131.5400\n",
            "Epoch 69/100\n",
            "23/23 - 0s - loss: 75.3399 - val_loss: 137.3736\n",
            "Epoch 70/100\n",
            "23/23 - 0s - loss: 72.0722 - val_loss: 125.9728\n",
            "Epoch 71/100\n",
            "23/23 - 0s - loss: 71.0542 - val_loss: 131.3087\n",
            "Epoch 72/100\n",
            "23/23 - 0s - loss: 67.2145 - val_loss: 126.8223\n",
            "Epoch 73/100\n",
            "23/23 - 0s - loss: 65.3340 - val_loss: 126.6012\n",
            "Epoch 74/100\n",
            "23/23 - 0s - loss: 63.7014 - val_loss: 126.6517\n",
            "Epoch 75/100\n",
            "23/23 - 0s - loss: 61.0972 - val_loss: 123.0408\n",
            "Epoch 76/100\n",
            "23/23 - 0s - loss: 59.2133 - val_loss: 127.2645\n",
            "Epoch 77/100\n",
            "23/23 - 0s - loss: 56.4133 - val_loss: 123.0128\n",
            "Epoch 78/100\n",
            "23/23 - 0s - loss: 54.5558 - val_loss: 121.0543\n",
            "Epoch 79/100\n",
            "23/23 - 0s - loss: 53.4103 - val_loss: 119.2087\n",
            "Epoch 80/100\n",
            "23/23 - 0s - loss: 51.6738 - val_loss: 121.7264\n",
            "Epoch 81/100\n",
            "23/23 - 0s - loss: 50.2840 - val_loss: 116.3647\n",
            "Epoch 82/100\n",
            "23/23 - 0s - loss: 49.3748 - val_loss: 118.7085\n",
            "Epoch 83/100\n",
            "23/23 - 0s - loss: 47.7206 - val_loss: 119.6924\n",
            "Epoch 84/100\n",
            "23/23 - 0s - loss: 47.7545 - val_loss: 116.7289\n",
            "Epoch 85/100\n",
            "23/23 - 0s - loss: 46.3618 - val_loss: 130.9553\n",
            "Epoch 86/100\n",
            "23/23 - 0s - loss: 45.6834 - val_loss: 122.4479\n",
            "Epoch 87/100\n",
            "23/23 - 0s - loss: 44.4532 - val_loss: 116.7521\n",
            "Epoch 88/100\n",
            "23/23 - 0s - loss: 42.9435 - val_loss: 121.8721\n",
            "Epoch 89/100\n",
            "23/23 - 0s - loss: 42.4307 - val_loss: 127.0087\n",
            "Epoch 90/100\n",
            "23/23 - 0s - loss: 42.2212 - val_loss: 123.7582\n",
            "Epoch 91/100\n",
            "23/23 - 0s - loss: 40.9970 - val_loss: 125.2812\n",
            "Epoch 92/100\n",
            "23/23 - 0s - loss: 40.9947 - val_loss: 123.3777\n",
            "Epoch 93/100\n",
            "23/23 - 0s - loss: 39.9008 - val_loss: 123.1702\n",
            "Epoch 94/100\n",
            "23/23 - 0s - loss: 39.6774 - val_loss: 128.0686\n",
            "Epoch 95/100\n",
            "23/23 - 0s - loss: 38.4752 - val_loss: 124.4170\n",
            "Epoch 96/100\n",
            "23/23 - 0s - loss: 37.6380 - val_loss: 121.8112\n",
            "Epoch 97/100\n",
            "23/23 - 0s - loss: 38.0951 - val_loss: 126.9856\n",
            "Epoch 98/100\n",
            "23/23 - 0s - loss: 36.7083 - val_loss: 124.6195\n",
            "Epoch 99/100\n",
            "23/23 - 0s - loss: 36.3688 - val_loss: 118.1520\n",
            "Epoch 100/100\n",
            "23/23 - 0s - loss: 36.2456 - val_loss: 129.6086\n"
          ],
          "name": "stdout"
        },
        {
          "output_type": "execute_result",
          "data": {
            "text/plain": [
              "<tensorflow.python.keras.callbacks.History at 0x7f492a801c50>"
            ]
          },
          "metadata": {
            "tags": []
          },
          "execution_count": 35
        }
      ]
    },
    {
      "cell_type": "code",
      "metadata": {
        "id": "ux_89kaPB2sS",
        "colab_type": "code",
        "colab": {}
      },
      "source": [
        ""
      ],
      "execution_count": 0,
      "outputs": []
    }
  ]
}